{
 "cells": [
  {
   "cell_type": "code",
   "execution_count": 1,
   "metadata": {
    "colab": {
     "autoexec": {
      "startup": false,
      "wait_interval": 0
     }
    },
    "colab_type": "code",
    "id": "zL1roXU167dk"
   },
   "outputs": [],
   "source": [
    "# Make sure to have the dataset in place, downloaded from:\n",
    "# http://benchmark.ini.rub.de/?section=gtsrb&subsection=dataset\n",
    "# \n",
    "# On linux systems:\n",
    "#! wget -q http://benchmark.ini.rub.de/Dataset/GTSRB_Final_Training_Images.zip\n",
    "#! unzip -q GTSRB_Final_Training_Images.zip"
   ]
  },
  {
   "cell_type": "code",
   "execution_count": 2,
   "metadata": {
    "colab": {
     "autoexec": {
      "startup": false,
      "wait_interval": 0
     }
    },
    "colab_type": "code",
    "id": "CwdrC0lfQvO3"
   },
   "outputs": [],
   "source": [
    "N_CLASSES = 43\n",
    "RESIZED_IMAGE = (32, 32)"
   ]
  },
  {
   "cell_type": "code",
   "execution_count": 3,
   "metadata": {
    "colab": {
     "autoexec": {
      "startup": false,
      "wait_interval": 0
     },
     "base_uri": "https://localhost:8080/",
     "height": 51,
     "output_extras": [
      {
       "item_id": 1
      }
     ]
    },
    "colab_type": "code",
    "executionInfo": {
     "elapsed": 136512,
     "status": "ok",
     "timestamp": 1521730675968,
     "user": {
      "displayName": "XYZ",
      "photoUrl": "ss",
      "userId": "22"
     },
     "user_tz": 0
    },
    "id": "g7nC9cmc9Eqv",
    "outputId": "e3a0314e-9d01-43f8-9410-6062952ffa29"
   },
   "outputs": [
    {
     "name": "stdout",
     "output_type": "stream",
     "text": [
      "(39209, 32, 32, 1)\n",
      "(39209, 43)\n"
     ]
    }
   ],
   "source": [
    "import matplotlib.pyplot as plt\n",
    "import glob\n",
    "from skimage.color import rgb2lab\n",
    "from skimage.transform import resize\n",
    "from collections import namedtuple\n",
    "import numpy as np\n",
    "np.random.seed(101)\n",
    "%matplotlib inline\n",
    "\n",
    "Dataset = namedtuple('Dataset', ['X', 'y'])\n",
    "\n",
    "def to_tf_format(imgs):\n",
    "    return np.stack([img[:, :, np.newaxis] for img in imgs], axis=0).astype(np.float32)\n",
    "\n",
    "def read_dataset_ppm(rootpath, n_labels, resize_to):\n",
    "  images = []\n",
    "  labels = []\n",
    "  \n",
    "  for c in range(n_labels):\n",
    "    full_path = rootpath + '/' + str(c) + '/'\n",
    "    # print(full_path)\n",
    "    for img_name in glob.glob(full_path + \"*.png\"):\n",
    "      \n",
    "      img = plt.imread(img_name).astype(np.float32)\n",
    "      img = rgb2lab(img / 255.0)[:,:,0]\n",
    "      if resize_to:\n",
    "        img = resize(img, resize_to, mode='reflect')\n",
    "      \n",
    "      label = np.zeros((n_labels, ), dtype=np.float32)\n",
    "      label[c] = 1.0\n",
    "      \n",
    "      images.append(img.astype(np.float32))\n",
    "      labels.append(label)\n",
    "\n",
    "  return Dataset(X = to_tf_format(images).astype(np.float32),\n",
    "                 y = np.matrix(labels).astype(np.float32))\n",
    "\n",
    "dataset = read_dataset_ppm('GTSRB/Train', N_CLASSES, RESIZED_IMAGE)\n",
    "print(dataset.X.shape)\n",
    "print(dataset.y.shape)"
   ]
  },
  {
   "cell_type": "code",
   "execution_count": 4,
   "metadata": {
    "colab": {
     "autoexec": {
      "startup": false,
      "wait_interval": 0
     },
     "base_uri": "https://localhost:8080/",
     "height": 300,
     "output_extras": [
      {
       "item_id": 1
      },
      {
       "item_id": 2
      }
     ]
    },
    "colab_type": "code",
    "executionInfo": {
     "elapsed": 586,
     "status": "ok",
     "timestamp": 1521730889337,
     "user": {
      "displayName": "XYZ",
      "photoUrl": "sss",
      "userId": "673"
     },
     "user_tz": 0
    },
    "id": "LCrd5FFX-dH8",
    "outputId": "374c0c9a-a1f0-451b-b3e4-1438506cd55c"
   },
   "outputs": [
    {
     "name": "stdout",
     "output_type": "stream",
     "text": [
      "[[1. 0. 0. 0. 0. 0. 0. 0. 0. 0. 0. 0. 0. 0. 0. 0. 0. 0. 0. 0. 0. 0. 0. 0.\n",
      "  0. 0. 0. 0. 0. 0. 0. 0. 0. 0. 0. 0. 0. 0. 0. 0. 0. 0. 0.]]\n"
     ]
    },
    {
     "data": {
      "image/png": "[encoded data removed]",
      "text/plain": [
       "<Figure size 640x480 with 1 Axes>"
      ]
     },
     "metadata": {},
     "output_type": "display_data"
    }
   ],
   "source": [
    "plt.imshow(dataset.X[0, :, :, :].reshape(RESIZED_IMAGE)) #sample\n",
    "print(dataset.y[0, :]) #label"
   ]
  },
  {
   "cell_type": "code",
   "execution_count": 5,
   "metadata": {
    "colab": {
     "autoexec": {
      "startup": false,
      "wait_interval": 0
     },
     "base_uri": "https://localhost:8080/",
     "height": 300,
     "output_extras": [
      {
       "item_id": 1
      },
      {
       "item_id": 2
      }
     ]
    },
    "colab_type": "code",
    "executionInfo": {
     "elapsed": 469,
     "status": "ok",
     "timestamp": 1521730916378,
     "user": {
      "displayName": "XYZ",
      "photoUrl": "dgh",
      "userId": "234"
     },
     "user_tz": 0
    },
    "id": "31rcgjdvL-bF",
    "outputId": "9e9cc018-727d-414e-ac55-470212e71646"
   },
   "outputs": [
    {
     "name": "stdout",
     "output_type": "stream",
     "text": [
      "[[0. 0. 0. 0. 0. 0. 0. 0. 0. 0. 0. 0. 0. 0. 0. 0. 0. 0. 0. 0. 0. 0. 0. 0.\n",
      "  0. 0. 0. 0. 0. 0. 0. 0. 0. 0. 0. 0. 0. 0. 0. 0. 0. 0. 1.]]\n"
     ]
    },
    {
     "data": {
      "image/png": "[encoded data removed]",
      "text/plain": [
       "<Figure size 640x480 with 1 Axes>"
      ]
     },
     "metadata": {},
     "output_type": "display_data"
    }
   ],
   "source": [
    "plt.imshow(dataset.X[-1, :, :, :].reshape(RESIZED_IMAGE)) #sample\n",
    "print(dataset.y[-1, :]) #label"
   ]
  },
  {
   "cell_type": "code",
   "execution_count": 6,
   "metadata": {
    "colab": {
     "autoexec": {
      "startup": false,
      "wait_interval": 0
     },
     "base_uri": "https://localhost:8080/",
     "height": 85,
     "output_extras": [
      {}
     ]
    },
    "colab_type": "code",
    "executionInfo": {
     "elapsed": 462,
     "status": "ok",
     "timestamp": 1521731108600,
     "user": {
      "displayName": "XYZ",
      "photoUrl": "ssss",
      "userId": "679"
     },
     "user_tz": 0
    },
    "id": "ZvQkNVVkPwrl",
    "outputId": "a2c3e75f-2a0d-4a4e-8612-e532994781cf"
   },
   "outputs": [
    {
     "name": "stdout",
     "output_type": "stream",
     "text": [
      "(29406, 32, 32, 1)\n",
      "(29406, 43)\n",
      "(9803, 32, 32, 1)\n",
      "(9803, 43)\n"
     ]
    }
   ],
   "source": [
    "from sklearn.model_selection import train_test_split\n",
    "idx_train, idx_test = train_test_split(range(dataset.X.shape[0]), test_size=0.25, random_state=101)\n",
    "X_train = dataset.X[idx_train, :, :, :]\n",
    "X_test = dataset.X[idx_test, :, :, :]\n",
    "y_train = dataset.y[idx_train, :]\n",
    "y_test = dataset.y[idx_test, :]\n",
    "\n",
    "print(X_train.shape)\n",
    "print(y_train.shape)\n",
    "print(X_test.shape)\n",
    "print(y_test.shape)"
   ]
  },
  {
   "cell_type": "code",
   "execution_count": 7,
   "metadata": {
    "colab": {
     "autoexec": {
      "startup": false,
      "wait_interval": 0
     }
    },
    "colab_type": "code",
    "id": "tTgV5dWZPxjY"
   },
   "outputs": [],
   "source": [
    "def minibatcher(X, y, batch_size, shuffle):\n",
    "  assert X.shape[0] == y.shape[0]\n",
    "  n_samples = X.shape[0]\n",
    "  \n",
    "  if shuffle:\n",
    "    idx = np.random.permutation(n_samples)\n",
    "  else:\n",
    "    idx = list(range(n_samples))\n",
    "  \n",
    "  for k in range(int(np.ceil(n_samples/batch_size))):\n",
    "    from_idx = k*batch_size\n",
    "    to_idx = (k+1)*batch_size\n",
    "    yield X[idx[from_idx:to_idx], :, :, :], y[idx[from_idx:to_idx], :]"
   ]
  },
  {
   "cell_type": "code",
   "execution_count": 8,
   "metadata": {
    "colab": {
     "autoexec": {
      "startup": false,
      "wait_interval": 0
     },
     "base_uri": "https://localhost:8080/",
     "height": 68,
     "output_extras": [
      {
       "item_id": 1
      }
     ]
    },
    "colab_type": "code",
    "executionInfo": {
     "elapsed": 537,
     "status": "ok",
     "timestamp": 1521732833423,
     "user": {
      "displayName": "XYZ",
      "photoUrl": "www",
      "userId": "263"
     },
     "user_tz": 0
    },
    "id": "-ID9VjqoQuVR",
    "outputId": "bac21122-bb24-495d-f970-2153d5501e70"
   },
   "outputs": [
    {
     "name": "stdout",
     "output_type": "stream",
     "text": [
      "(10000, 32, 32, 1) (10000, 43)\n",
      "(10000, 32, 32, 1) (10000, 43)\n",
      "(9406, 32, 32, 1) (9406, 43)\n"
     ]
    }
   ],
   "source": [
    "for mb in minibatcher(X_train, y_train, 10000, True):\n",
    "  print(mb[0].shape, mb[1].shape)"
   ]
  },
  {
   "cell_type": "code",
   "execution_count": 9,
   "metadata": {
    "colab": {
     "autoexec": {
      "startup": false,
      "wait_interval": 0
     }
    },
    "colab_type": "code",
    "id": "B_lZn5XcM-9y"
   },
   "outputs": [],
   "source": [
    "import tensorflow as tf\n",
    "\n",
    "def fc_no_activation_layer(in_tensors, n_units):\n",
    "  w = tf.get_variable('fc_W', \n",
    "    [in_tensors.get_shape()[1], n_units],\n",
    "    tf.float32,\n",
    "    tf.contrib.layers.xavier_initializer())\n",
    "  b = tf.get_variable('fc_B',\n",
    "    [n_units, ],\n",
    "    tf.float32,\n",
    "    tf.constant_initializer(0.0))\n",
    "  return tf.matmul(in_tensors, w) + b\n",
    "\n",
    "def fc_layer(in_tensors, n_units):\n",
    "  return tf.nn.leaky_relu(fc_no_activation_layer(in_tensors, n_units))\n",
    "\n",
    "def maxpool_layer(in_tensors, sampling):\n",
    "  return tf.nn.max_pool(in_tensors, [1, sampling, sampling, 1], [1, sampling, sampling, 1], 'SAME')\n",
    "  \n",
    "def conv_layer(in_tensors, kernel_size, n_units):\n",
    "  w = tf.get_variable('conv_W', \n",
    "    [kernel_size, kernel_size, in_tensors.get_shape()[3], n_units],\n",
    "    tf.float32,\n",
    "    tf.contrib.layers.xavier_initializer())\n",
    "  b = tf.get_variable('conv_B',\n",
    "    [n_units, ],\n",
    "    tf.float32,\n",
    "    tf.constant_initializer(0.0))\n",
    "  return tf.nn.leaky_relu(tf.nn.conv2d(in_tensors, w, [1, 1, 1, 1], 'SAME') + b)\n",
    "\n",
    "def dropout(in_tensors, keep_proba, is_training):\n",
    "  return tf.cond(is_training, lambda: tf.nn.dropout(in_tensors, keep_proba), lambda: in_tensors)\n",
    "\n",
    "  \n",
    "def model(in_tensors, is_training):\n",
    "  \n",
    "  # First layer: 5x5 2d-conv, 32 filters, 2x maxpool, 20% drouput\n",
    "  with tf.variable_scope('l1'):\n",
    "    l1 = maxpool_layer(conv_layer(in_tensors, 5, 32), 2)\n",
    "    l1_out = dropout(l1, 0.8, is_training)\n",
    "  \n",
    "  # Second layer: 5x5 2d-conv, 64 filters, 2x maxpool, 20% drouput\n",
    "  with tf.variable_scope('l2'):\n",
    "    l2 = maxpool_layer(conv_layer(l1_out, 5, 64), 2)\n",
    "    l2_out = dropout(l2, 0.8, is_training)\n",
    "    \n",
    "  with tf.variable_scope('flatten'):\n",
    "    l2_out_flat = tf.layers.flatten(l2_out)\n",
    "  \n",
    "  # Fully collected layer, 1024 neurons, 40% dropout \n",
    "  with tf.variable_scope('l3'):\n",
    "    l3 = fc_layer(l2_out_flat, 1024)\n",
    "    l3_out = dropout(l3, 0.6, is_training)\n",
    "  \n",
    "  # Output\n",
    "  with tf.variable_scope('out'):\n",
    "    out_tensors = fc_no_activation_layer(l3_out, N_CLASSES)\n",
    "  \n",
    "  return out_tensors"
   ]
  },
  {
   "cell_type": "code",
   "execution_count": 15,
   "metadata": {
    "colab": {
     "autoexec": {
      "startup": false,
      "wait_interval": 0
     },
     "base_uri": "https://localhost:8080/",
     "height": 1767,
     "output_extras": [
      {
       "item_id": 12
      },
      {
       "item_id": 13
      },
      {
       "item_id": 14
      }
     ]
    },
    "colab_type": "code",
    "executionInfo": {
     "elapsed": 42179,
     "status": "ok",
     "timestamp": 1521744304653,
     "user": {
      "displayName": "XYZ",
      "photoUrl": "huldfeq",
      "userId": "0987"
     },
     "user_tz": 0
    },
    "id": "Qr5xRwtK2S65",
    "outputId": "917e1172-4f99-4902-d9d3-d383c4c1a420"
   },
   "outputs": [],
   "source": [
    "from sklearn.metrics import classification_report, confusion_matrix\n",
    "\n",
    "\n",
    "def train_model(X_train, y_train, X_test, y_test, learning_rate, max_epochs, batch_size):\n",
    "\n",
    "  in_X_tensors_batch = tf.placeholder(tf.float32, shape = (None, RESIZED_IMAGE[0], RESIZED_IMAGE[1], 1))\n",
    "  in_y_tensors_batch = tf.placeholder(tf.float32, shape = (None, N_CLASSES))\n",
    "  is_training = tf.placeholder(tf.bool)\n",
    "\n",
    "  logits = model(in_X_tensors_batch, is_training)\n",
    "  out_y_pred = tf.nn.softmax(logits)\n",
    "  loss_score = tf.nn.softmax_cross_entropy_with_logits(logits=logits, labels=in_y_tensors_batch)\n",
    "  loss = tf.reduce_mean(loss_score)\n",
    "  optimizer = tf.train.AdamOptimizer(learning_rate).minimize(loss)\n",
    "\n",
    "  with tf.Session() as session:\n",
    "    session.run(tf.global_variables_initializer())\n",
    "\n",
    "    for epoch in range(max_epochs):\n",
    "      print(\"Epoch=\", epoch)\n",
    "      tf_score = []\n",
    "      \n",
    "      for mb in minibatcher(X_train, y_train, batch_size, shuffle = True):\n",
    "        tf_output = session.run([optimizer, loss], \n",
    "                                feed_dict = {in_X_tensors_batch : mb[0], \n",
    "                                             in_y_tensors_batch : mb[1],\n",
    "                                             is_training : True})\n",
    "      \n",
    "        tf_score.append(tf_output[1])\n",
    "      print(\" train_loss_score=\", np.mean(tf_score))\n",
    "    \n",
    "    # after the training is done, time to test it on the test set\n",
    "    print(\"TEST SET PERFORMANCE\")\n",
    "    y_test_pred, test_loss  = session.run([out_y_pred, loss], \n",
    "                                          feed_dict = {in_X_tensors_batch : X_test, \n",
    "                                                       in_y_tensors_batch : y_test,\n",
    "                                                       is_training : False})\n",
    "    \n",
    "    print(\" test_loss_score=\", test_loss)\n",
    "    y_test_pred_classified = np.argmax(y_test_pred, axis=1).astype(np.int32)\n",
    "    y_test_true_classified = np.argmax(y_test, axis=1).astype(np.int32)\n",
    "    print(classification_report(y_test_true_classified, y_test_pred_classified))\n",
    "    \n",
    "    cm = confusion_matrix(y_test_true_classified, y_test_pred_classified)\n",
    "    \n",
    "    plt.imshow(cm, interpolation='nearest', cmap=plt.cm.Blues)\n",
    "    plt.colorbar()\n",
    "    plt.tight_layout()\n",
    "    plt.show()\n",
    "    \n",
    "    # And the log2 version, to enphasize the misclassifications\n",
    "    plt.imshow(np.log2(cm + 1), interpolation='nearest', cmap=plt.get_cmap(\"tab20\"))\n",
    "    plt.colorbar()\n",
    "    plt.tight_layout()\n",
    "    plt.show()\n",
    "\n",
    "\n",
    "tf.reset_default_graph()\n",
    "train_model(X_train, y_train, X_test, y_test, 0.001, 10, 256)"
   ]
  },
  {
   "cell_type": "code",
   "execution_count": null,
   "metadata": {
    "colab": {
     "autoexec": {
      "startup": false,
      "wait_interval": 0
     }
    },
    "colab_type": "code",
    "id": "D48vDSbSRB6a"
   },
   "outputs": [],
   "source": []
  },
  {
   "cell_type": "code",
   "execution_count": null,
   "metadata": {},
   "outputs": [],
   "source": []
  }
 ],
 "metadata": {
  "accelerator": "GPU",
  "colab": {
   "collapsed_sections": [],
   "default_view": {},
   "name": "cnn_chapter.ipynb",
   "provenance": [],
   "version": "0.3.2",
   "views": {}
  },
  "kernelspec": {
   "display_name": "Python 3",
   "language": "python",
   "name": "python3"
  },
  "language_info": {
   "codemirror_mode": {
    "name": "ipython",
    "version": 3
   },
   "file_extension": ".py",
   "mimetype": "text/x-python",
   "name": "python",
   "nbconvert_exporter": "python",
   "pygments_lexer": "ipython3",
   "version": "3.10.13"
  }
 },
 "nbformat": 4,
 "nbformat_minor": 1
}
